{
 "cells": [
  {
   "cell_type": "markdown",
   "metadata": {},
   "source": [
    "## Valuing an Option via the Black–Scholes Model"
   ]
  },
  {
   "cell_type": "code",
   "execution_count": 6,
   "metadata": {},
   "outputs": [],
   "source": [
    "import datetime\n",
    "import math\n",
    "import plotly.express as px\n",
    "\n",
    "from typing import NewType\n",
    "from typing import Literal"
   ]
  },
  {
   "cell_type": "code",
   "execution_count": 7,
   "metadata": {},
   "outputs": [],
   "source": [
    "# Define sentinels and consts\n",
    "Currency = NewType(\"Currency\", float)\n",
    "OptionType = Literal[\"call\", \"put\"]\n",
    "TRADING_DAYS_PER_YEAR = 252"
   ]
  },
  {
   "cell_type": "markdown",
   "metadata": {},
   "source": [
    "The Standard Normal Distribution CDF (where $\\sigma = 1$ and $\\mu = 0$ ) is given by \n",
    "\n",
    "$$\\Phi (x) \\coloneqq {\\frac {1}{2}}\\left(1+\\operatorname {erf} \\left({\\frac {x}{\\sqrt {2}}}\\right)\\right)$$\n",
    "\n",
    "That is $\\Phi(z) = \\Pr(Z \\leq z)$ where $Z \\sim \\mathcal{N}(\\mu = 0, \\sigma^2 = 1)$"
   ]
  },
  {
   "cell_type": "code",
   "execution_count": 8,
   "metadata": {},
   "outputs": [],
   "source": [
    "# Auxiliary Functions\n",
    "def std_norm_cdf(x: float) -> float:\n",
    "    \"\"\"\n",
    "    Returns the cumulative distribution function (CDF) of the standard normal distribution.\n",
    "    \"\"\"\n",
    "    return 0.5 * (1 + math.erf(x / math.sqrt(2)))"
   ]
  },
  {
   "cell_type": "markdown",
   "metadata": {},
   "source": [
    "#### Black–Scholes Model\n",
    "We use the [Black–Scholes model](https://en.wikipedia.org/wiki/Black%E2%80%93Scholes_model) to determine the value of a European option given : \n",
    "\n",
    "- $r$ - Interest Rate \n",
    "- $K$ - Strike Price [Currency] \n",
    "- $S$ - Underlying Price [Currency]\n",
    "- $T$ - Time of option expiration [Years]\n",
    "- $\\sigma$ - Measure of Volatility (square root of the quadratic variation of the stock's log price)  \n",
    "\n",
    "#### Calculating the Value of Call / Put Options \n",
    "\n",
    "Moneyness is the ratio $0 \\lt \\frac{S}{K} \\lt \\infty$. For call options if moneyness is $\\lt 1$ then we say we are \"out of the money\" and if its $\\gt 1$ we are \"in the money\".\n",
    "\n",
    "$d_1$ is a standardized measure of how far the log-moneyness $\\ln(S / K)$ may be from zero (i.e. how far it is from breaking even).\n",
    "\n",
    "$$d_1 = \\frac{\\ln(S/K) + (r + \\tfrac{1}{2}\\sigma^2)T}{\\sigma \\sqrt{T}}$$\n",
    "\n",
    "$d_2$ shifts $d_1$ down by $\\sigma\\sqrt{T}$. It represents the standardized moneyness at expiration. \n",
    "\n",
    "$$d_2 = d_1 - \\sigma \\sqrt{T}$$\n",
    "\n",
    "Using this we express the following for the expected call $C$ and put price $P$ where $\\Phi(x)$ is the standard normal distribution. \n",
    "$$\n",
    "C = S \\Phi(d_1) - K e^{-rT} \\Phi(d_2) \\\\ \\quad \\\\\n",
    "P = K e^{-rT} \\Phi(-d_2) - S \\Phi(-d_1)\n",
    "$$\n",
    "\n"
   ]
  },
  {
   "cell_type": "code",
   "execution_count": 9,
   "metadata": {},
   "outputs": [],
   "source": [
    "def black_sholes(\n",
    "    interest_rate: float,\n",
    "    strike_price: Currency,\n",
    "    underlying_price: Currency,\n",
    "    time_to_maturity: datetime.timedelta,\n",
    "    volatility: float,\n",
    "    option_type: OptionType,\n",
    ") -> float:\n",
    "    # Extract the terms\n",
    "    r = interest_rate\n",
    "    K = strike_price\n",
    "    S = underlying_price\n",
    "    T = time_to_maturity.total_seconds() / (\n",
    "        TRADING_DAYS_PER_YEAR * 24 * 60 * 60\n",
    "    )  # cast to years\n",
    "    sigma = volatility\n",
    "\n",
    "    # Calculate d1 and d2\n",
    "    d1 = (math.log(S / K) + (r + 0.5 * sigma**2) * T) / (sigma * math.sqrt(T))\n",
    "    d2 = d1 - sigma * math.sqrt(T)\n",
    "\n",
    "    if option_type == \"call\":\n",
    "        return S * std_norm_cdf(d1) - K * math.exp(-r * T) * std_norm_cdf(d2)\n",
    "\n",
    "    if option_type == \"put\":\n",
    "        return K * math.exp(-r * T) * std_norm_cdf(-d2) - S * std_norm_cdf(-d1)\n",
    "\n",
    "    raise ValueError(f\"Invalid Option Type `{option_type}`\")"
   ]
  },
  {
   "cell_type": "markdown",
   "metadata": {},
   "source": [
    "#### Example\n"
   ]
  },
  {
   "cell_type": "code",
   "execution_count": 11,
   "metadata": {},
   "outputs": [
    {
     "data": {
      "text/plain": [
       "5.492414769106055"
      ]
     },
     "execution_count": 11,
     "metadata": {},
     "output_type": "execute_result"
    }
   ],
   "source": [
    "# Example black sholes variables\n",
    "\n",
    "interest_rate: float = 0.05\n",
    "strike_price: Currency = Currency(100)\n",
    "underlying_price: Currency = Currency(100)\n",
    "time_to_maturity: datetime.timedelta = datetime.timedelta(days=240)\n",
    "volatility: float = 0.2\n",
    "\n",
    "black_sholes(\n",
    "    interest_rate=interest_rate,\n",
    "    strike_price=strike_price,\n",
    "    underlying_price=underlying_price,\n",
    "    time_to_maturity=time_to_maturity,\n",
    "    volatility=volatility,\n",
    "    option_type=\"put\",\n",
    ")"
   ]
  }
 ],
 "metadata": {
  "kernelspec": {
   "display_name": "mc_pricer",
   "language": "python",
   "name": "python3"
  },
  "language_info": {
   "codemirror_mode": {
    "name": "ipython",
    "version": 3
   },
   "file_extension": ".py",
   "mimetype": "text/x-python",
   "name": "python",
   "nbconvert_exporter": "python",
   "pygments_lexer": "ipython3",
   "version": "3.12.11"
  }
 },
 "nbformat": 4,
 "nbformat_minor": 2
}
